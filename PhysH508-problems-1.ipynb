{
 "cells": [
  {
   "cell_type": "markdown",
   "metadata": {},
   "source": [
    "## Phys H508 Problems 1 - Surface Structure and Energy"
   ]
  },
  {
   "cell_type": "markdown",
   "metadata": {},
   "source": [
    "#### 1) Hard-sphere crystals \n",
    "Assume atoms of diameter $D=0.25 nm$ in contact.\n",
    "\n",
    "Calculate the length of the cubic cell $A$ and the volume fraction occupied by the spherical atoms for\n",
    "1. a simple cubic crystal\n",
    "2. a face-centered cubic (fcc) crystal\n",
    "3. a body-centered cubic (bcc) crystal\n",
    "4. a diamond-lattice cyrstal"
   ]
  },
  {
   "cell_type": "markdown",
   "metadata": {},
   "source": [
    "#### 2) Hard-sphere fcc crystal\n",
    "Assume the atoms have diameter $D=0.25 nm$. \n",
    "Calculate the density of surface atoms ($number/m^2$) and the area per surface unit cell for the \n",
    "1. (100)\n",
    "2. (111) and \n",
    "3. (110) surfaces."
   ]
  },
  {
   "cell_type": "markdown",
   "metadata": {
    "collapsed": true
   },
   "source": [
    "#### 3) \"1D\" surface (edge) energies.\n",
    "\n",
    "Assume the atoms have diameter $D$ with nearest-neighbor interaction energies $E_1$ and second-neighbor interaction energies $E_2$. Calculate both the energy per edge unit cell and energy density ($Energy/length$) for edges a, b, c and d.\n",
    "\n",
    "\n",
    "![title text here](img/Ex1 2D crystals.png)"
   ]
  },
  {
   "cell_type": "markdown",
   "metadata": {},
   "source": [
    "#### 4) Hard sphere BCC crystal\n",
    "Sketch and calculate the area of the bbc surface unit cells in terms of atom diamter $D$ for the\n",
    "1. (100)\n",
    "2. (111)\n",
    "3. (110) surfaces"
   ]
  },
  {
   "cell_type": "markdown",
   "metadata": {},
   "source": [
    "#### 5) Cohesive Energy\n",
    "Assume crystals with only pairwise nearest-neighbor bonds of energy $E_b = 1 eV$ and atoms with $D=0.25 nm$. What is the cohesive energy per cubic cell and energy density ($J/m^3$) for:\n",
    "1. a fcc crystal\n",
    "2. a bcc crystal\n",
    "3. a simple cubic crystal\n",
    "4. a diamond crystal"
   ]
  },
  {
   "cell_type": "markdown",
   "metadata": {},
   "source": [
    "#### 6) Morse Potential\n",
    "Suppose an fcc crystal is described by a Morse potential with an equilibrium pair-bond length $D = 0.25 nm$ and a decay length $\\lambda= 0.1 nm$. You can calculate surface energies by summing over interactions with neighboring atoms.\n",
    "1. Estimate how many atoms you would need to include in the summation to calculate surface energies with 1% accuracy\n",
    "2. Estimate the fcc crystal interatomic spacing. Will it be greater or lesser than 0.25 nm?\n"
   ]
  },
  {
   "cell_type": "code",
   "execution_count": null,
   "metadata": {
    "collapsed": true
   },
   "outputs": [],
   "source": []
  }
 ],
 "metadata": {
  "kernelspec": {
   "display_name": "Python 3",
   "language": "python",
   "name": "python3"
  },
  "language_info": {
   "codemirror_mode": {
    "name": "ipython",
    "version": 3
   },
   "file_extension": ".py",
   "mimetype": "text/x-python",
   "name": "python",
   "nbconvert_exporter": "python",
   "pygments_lexer": "ipython3",
   "version": "3.6.0"
  }
 },
 "nbformat": 4,
 "nbformat_minor": 2
}
