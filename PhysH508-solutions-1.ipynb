{
 "cells": [
  {
   "cell_type": "markdown",
   "metadata": {},
   "source": [
    "## Phys H508 Solutions 1 - Surface Structure and Energy"
   ]
  },
  {
   "cell_type": "markdown",
   "metadata": {},
   "source": [
    "#### 1) Hard-sphere crystals \n",
    "Assume atoms of diameter $D=0.25 nm$ in contact.\n",
    "\n",
    "Calculate the length of the cubic cell $A$ and the volume fraction occupied by the spherical atoms for\n",
    "1. a simple cubic crystal\n",
    "2. a face-centered cubic (fcc) crystal\n",
    "3. a body-centered cubic (bcc) crystal\n",
    "4. a diamond-lattice cyrstal"
   ]
  },
  {
   "cell_type": "markdown",
   "metadata": {},
   "source": [
    "### Some general functions to calculate crystal geometry"
   ]
  },
  {
   "cell_type": "code",
   "execution_count": 1,
   "metadata": {
    "collapsed": true
   },
   "outputs": [],
   "source": [
    "import numpy as np\n",
    "from scipy import constants as pc\n",
    "import matplotlib.pyplot as plt\n",
    "%matplotlib inline\n",
    "#vector math, a can be a single vector or an array of vectors...\n",
    "\n",
    "def v_length(a):\n",
    "    #vector length\n",
    "    return np.sqrt(np.vdot(a,a))\n",
    "\n",
    "def v_angle(a,b):\n",
    "    #angle between vectors\n",
    "    return np.arccos(np.vdot(a,b) / (v_length(a) * v_length(b)))\n",
    "\n",
    "def distance(a,b):\n",
    "    '''\n",
    "    calculate the distance between two vector coordinates, or an\n",
    "    array of distances between a single vector (a) and an array of vectors (b)\n",
    "    '''\n",
    "    if a.size == 3 and b.size == 3:\n",
    "        x = a-b\n",
    "        return np.sqrt(x[0]**2 + x[1]**2 + x[2]**2)\n",
    "    x = a[np.newaxis,:]-b\n",
    "    return np.sqrt(x[:,0]**2 + x[:,1]**2 + x[:,2]**2)\n",
    "\n",
    "def vol_sphere(d):\n",
    "    return (4/3)*np.pi*(d/2)**3\n",
    "\n",
    "#cube in units of \"A\"\n",
    "a=np.array((1,0,0))\n",
    "b=np.array((0,1,0))\n",
    "c=np.array((0,0,1))\n",
    "\n",
    "Do=0.25e-9 #diameter in meters"
   ]
  },
  {
   "cell_type": "code",
   "execution_count": 2,
   "metadata": {
    "collapsed": false
   },
   "outputs": [
    {
     "name": "stdout",
     "output_type": "stream",
     "text": [
      "Simple cubic lattice D/A is 1.000, A= 2.5e-10\n",
      "Simple cubic lattice volume fraction 0.524\n"
     ]
    }
   ],
   "source": [
    "#simple cubic lattice\n",
    "A_sc = Do\n",
    "print('Simple cubic lattice D/A is {:.3f}, A= {:.3g}'.format(1.0,A_sc))\n",
    "v_sc=vol_sphere(A_sc/Do)\n",
    "print('Simple cubic lattice volume fraction {:.3f}'.format(v_sc))"
   ]
  },
  {
   "cell_type": "code",
   "execution_count": 3,
   "metadata": {
    "collapsed": false
   },
   "outputs": [
    {
     "name": "stdout",
     "output_type": "stream",
     "text": [
      "fcc lattice basis has 4 atoms at\n",
      " [[ 0.   0.   0. ]\n",
      " [ 0.5  0.5  0. ]\n",
      " [ 0.5  0.   0.5]\n",
      " [ 0.   0.5  0.5]]\n",
      "fcc lattice A/D is 1.414, A= 3.54e-10\n",
      "fcc lattice volume fraction 0.740\n"
     ]
    }
   ],
   "source": [
    "#fcc lattice\n",
    "#the 'basis' lists the atomic positions in the cubic cell\n",
    "fcc_basis = np.array((0.0*(a+b),0.5*(a+b),0.5*(a+c),0.5*(b+c)))\n",
    "print('fcc lattice basis has 4 atoms at\\n',fcc_basis)\n",
    "\n",
    "#side diagonal of cube is 2 Do\n",
    "A_fcc=2**0.5 * Do\n",
    "print('fcc lattice A/D is {:.3f}, A= {:.3g}'.format(A_fcc/Do,A_fcc))\n",
    "\n",
    "v_fcc=fcc_basis.shape[0]*vol_sphere(Do)#count all 4 atoms\n",
    "print('fcc lattice volume fraction {:.3f}'.format(v_fcc/A_fcc**3))"
   ]
  },
  {
   "cell_type": "code",
   "execution_count": 4,
   "metadata": {
    "collapsed": false
   },
   "outputs": [
    {
     "name": "stdout",
     "output_type": "stream",
     "text": [
      "bcc lattice basis has 2 atoms at\n",
      " [[ 0.   0.   0. ]\n",
      " [ 0.5  0.5  0.5]]\n",
      "bcc lattice A/D is 1.155, A= 2.89e-10\n",
      "bcc lattice volume fraction 0.680\n"
     ]
    }
   ],
   "source": [
    "#bcc lattice\n",
    "#the 'basis' lists the atomic positions in the cubic cell\n",
    "bcc_basis = np.array((0.0*(a+b+c),0.5*(a+b+c)))\n",
    "print('bcc lattice basis has 2 atoms at\\n',bcc_basis)\n",
    "\n",
    "#long diagonal of cube is 2 Do\n",
    "A_bcc= 2*Do/3**0.5\n",
    "print('bcc lattice A/D is {:.3f}, A= {:.3g}'.format(A_bcc/Do,A_bcc))\n",
    "v_bcc=bcc_basis.shape[0]*vol_sphere(Do)#count all atoms\n",
    "print('bcc lattice volume fraction {:.3f}'.format(v_bcc/A_bcc**3))"
   ]
  },
  {
   "cell_type": "code",
   "execution_count": 5,
   "metadata": {
    "collapsed": false
   },
   "outputs": [
    {
     "name": "stdout",
     "output_type": "stream",
     "text": [
      "diamond lattice basis has 8 atoms at\n",
      " [[ 0.    0.    0.  ]\n",
      " [ 0.5   0.5   0.  ]\n",
      " [ 0.5   0.    0.5 ]\n",
      " [ 0.    0.5   0.5 ]\n",
      " [ 0.25  0.25  0.25]\n",
      " [ 0.75  0.75  0.25]\n",
      " [ 0.75  0.25  0.75]\n",
      " [ 0.25  0.75  0.75]]\n",
      "diamond lattice A/D is 2.309, A= 5.77e-10\n",
      "diamond lattice volume fraction 0.340\n"
     ]
    }
   ],
   "source": [
    "#diamond lattice is like an fcc latice at the origin added to one shifted by (a+b+c)/4\n",
    "diamond_basis = np.append(fcc_basis, fcc_basis + (a+b+c)/4,axis=0)\n",
    "print('diamond lattice basis has 8 atoms at\\n',diamond_basis)\n",
    "\n",
    "#long diagonal of cube is 4 Do\n",
    "A_diamond=4*Do/3**.5\n",
    "print('diamond lattice A/D is {:.3f}, A= {:.3g}'.format(A_diamond/Do,A_diamond))\n",
    "v_diamond=diamond_basis.shape[0]*vol_sphere(Do)#count all atoms\n",
    "print('diamond lattice volume fraction {:.3f}'.format(v_diamond/A_diamond**3))"
   ]
  },
  {
   "cell_type": "markdown",
   "metadata": {},
   "source": [
    "#### 2) Hard-sphere fcc crystal\n",
    "Assume the atoms have diameter $D=0.25 nm$. \n",
    "Calculate the density of surface atoms ($number/m^2$) and the area per surface unit cell for the \n",
    "1. (100)\n",
    "2. (111) and \n",
    "3. (110) surfaces."
   ]
  },
  {
   "cell_type": "code",
   "execution_count": 6,
   "metadata": {
    "collapsed": false
   },
   "outputs": [
    {
     "name": "stdout",
     "output_type": "stream",
     "text": [
      "100 surface area 6.25e-20 m^2, atomic density 1.6e+19/m^2\n",
      "111 surface area 5.41e-20 m^2, atomic density 1.85e+19/m^2\n",
      "110 surface area 8.84e-20 m^2, atomic density 1.13e+19/m^2\n"
     ]
    }
   ],
   "source": [
    "def v_area(a,b):\n",
    "    return v_length(a)*v_length(b)*np.sin(v_angle(a,b))\n",
    "\n",
    "#(100) surface\n",
    "A = (a+b)/2   #primitive surface cell vectors\n",
    "B = (a-b)/2\n",
    "area_100 = A_fcc**2*v_area(A,B) #per surface cell\n",
    "print('100 surface area {:.3g} m^2, atomic density {:.3g}/m^2'.format(area_100,1/area_100))\n",
    "\n",
    "#(111) surface\n",
    "A = (a+b)/2   #primitive surface cell vectors\n",
    "B = (a+c)/2\n",
    "area_111 = A_fcc**2*v_area(A,B) #per surface cell\n",
    "print('111 surface area {:.3g} m^2, atomic density {:.3g}/m^2'.format(area_111,1/area_111))\n",
    "\n",
    "#(110) surface\n",
    "A = (a+b)/2   #primitive surface cell vectors\n",
    "B = c\n",
    "area_110 = A_fcc**2*v_area(A,B) #per surface cell\n",
    "print('110 surface area {:.3g} m^2, atomic density {:.3g}/m^2'.format(area_110,1/area_110))"
   ]
  },
  {
   "cell_type": "markdown",
   "metadata": {
    "collapsed": true
   },
   "source": [
    "#### 3) \"1D\" surface (edge) energies.\n",
    "\n",
    "Assume the atoms have diameter $D$ with nearest-neighbor interaction energies $E_1$ and second-neighbor interaction energies $E_2$. Calculate both the energy per edge unit cell and energy density ($Energy/length$) for edges a, b, c and d.\n",
    "\n",
    "\n",
    "![title text here](img/Ex1 2D crystals sol.png)\n",
    "\n",
    "For each example the atoms in the edge unit cell that have lost first or second neighbors are highlighed, with darker colors showing more broken bonds. The total edge energy is divided among the two sides.\n",
    "1. Edge a, $E_a = (E_1+2E_2)/2$, $L_a=D$, $J_a=\\frac{1+2x}{2}\\frac{E_1}{D}$ where $x=E_2/E1$\n",
    "2. Edge b, $E_b = E_1+E_2$, $L_b=\\sqrt2D$, $J_b=\\frac{1+x}{\\sqrt2}\\frac{E_1}{D}$\n",
    "3. Edge c, $E_c = (3E_1+4E_2)/2$, $L_c=\\sqrt5D$, $J_c=\\frac{3+4x}{2\\sqrt5}\\frac{E_1}{D}$\n",
    "3. Edge d, $E_d = (4E_1+10E_2)/2$, $L_d=\\sqrt10D$, $J_d=\\frac{4+10x}{2\\sqrt10}\\frac{E_1}{D}$"
   ]
  },
  {
   "cell_type": "markdown",
   "metadata": {},
   "source": [
    "### calculate edge energies as a function of first and second neighbor energies"
   ]
  },
  {
   "cell_type": "code",
   "execution_count": 7,
   "metadata": {
    "collapsed": false
   },
   "outputs": [
    {
     "data": {
      "text/plain": [
       "<matplotlib.text.Text at 0x10eb6a278>"
      ]
     },
     "execution_count": 7,
     "metadata": {},
     "output_type": "execute_result"
    },
    {
     "data": {
      "image/png": "[encoded data removed]",
      "text/plain": [
       "<matplotlib.figure.Figure at 0x10537b470>"
      ]
     },
     "metadata": {},
     "output_type": "display_data"
    }
   ],
   "source": [
    "def e_a(x):\n",
    "    return .5+x\n",
    "def e_b(x):\n",
    "    return (1+x)/2**.5\n",
    "def e_c(x):\n",
    "    return (3+4*x)/(2*5**.5)\n",
    "def e_d(x):\n",
    "    return (4+10*x)/(2*10**.5)\n",
    "xx = np.linspace(0,1,20)\n",
    "plt.plot(xx,e_a(xx),label='Ja')\n",
    "plt.plot(xx,e_b(xx),label='Jb')\n",
    "plt.plot(xx,e_c(xx),label='Jc')\n",
    "plt.plot(xx,e_d(xx),label='Jd')\n",
    "plt.legend()\n",
    "plt.xlabel('E2/E1 ratio')\n",
    "plt.ylabel('Energy per unit length [E1/D]')\n",
    "plt.title('Edge energy density')"
   ]
  },
  {
   "cell_type": "markdown",
   "metadata": {},
   "source": [
    "#### 4) Hard sphere BCC crystal\n",
    "Sketch and calculate the area of the bcc surface unit cells in terms of atom diamter $D$ for the\n",
    "1. (100)\n",
    "2. (111)\n",
    "3. (110) surfaces"
   ]
  },
  {
   "cell_type": "markdown",
   "metadata": {},
   "source": [
    "The long diagonal is 2 atom diameters for bcc, so $\\sqrt 3 \\cdot A = 2 \\cdot D$.\n",
    "\n",
    "For each surface $\\vec a$ and $\\vec b$ are in-plane and $\\vec c$ connects to the plane above:\n",
    "\n",
    "For (100), $\\vec a=\\textstyle\\frac{D}{\\sqrt3} (2,0,0)$, \n",
    "$\\vec b=\\textstyle\\frac{D}{\\sqrt3} (0,2,0)$, $\\vec c=\\textstyle\\frac{D}{\\sqrt3} (1,1,1)$\n",
    "![title](img/bcc 100.png)"
   ]
  },
  {
   "cell_type": "markdown",
   "metadata": {},
   "source": [
    "For (110), $\\vec a=\\textstyle\\frac{D}{\\sqrt3} (1,+\\sqrt2,0)$, $\\vec b=\\textstyle\\frac{D}{\\sqrt3} (1,-\\sqrt2,0)$,  $\\vec c=\\textstyle\\frac{D}{\\sqrt3} (1,0,\\sqrt2)$,\n",
    "![title](img/bcc 110 111.png)\n",
    "For (111), $\\vec a=D \\cdot (\\textstyle\\sqrt\\frac{2}{3},+\\sqrt2,0)$,\n",
    "$\\vec b=D \\cdot (\\textstyle\\sqrt\\frac{2}{3},-\\sqrt2,0)$,\n",
    "$\\vec c=D \\cdot (\\textstyle\\sqrt\\frac{2}{3},\\textstyle\\frac{\\sqrt2}{3},\\textstyle\\frac{1}{3})$\n",
    "\n",
    "Here $\\vec a$ and $\\vec b$ describe the flat 2D surface and $\\vec c$ connects to the next layer\n"
   ]
  },
  {
   "cell_type": "markdown",
   "metadata": {},
   "source": [
    "#### 5) Cohesive Energy\n",
    "Assume crystals with only pairwise nearest-neighbor bonds of energy $E_b = 1 eV$ and atoms with $D=0.25 nm$. What is the cohesive energy per cubic cell and energy density ($J/m^3$) for:\n",
    "1. a fcc crystal\n",
    "\n",
    "Each atom has 12 neighbors and the cubic cell has 4 atoms for 24$E_B$ per cell"
   ]
  },
  {
   "cell_type": "code",
   "execution_count": 8,
   "metadata": {
    "collapsed": false
   },
   "outputs": [
    {
     "name": "stdout",
     "output_type": "stream",
     "text": [
      "fcc energy density 8.7e+10 J/m3, or 579 kJ/mol\n"
     ]
    }
   ],
   "source": [
    "J_fcc = 24 * pc.eV / A_fcc**3\n",
    "E_fcc_mol = 6 * pc.eV * pc.Avogadro \n",
    "print('fcc energy density {:.3g} J/m3, or {:.3g} kJ/mol'.format(J_fcc,E_fcc_mol/1000))"
   ]
  },
  {
   "cell_type": "markdown",
   "metadata": {},
   "source": [
    "5.2 bcc crystal\n",
    "\n",
    "Each atom has 8 neighbors and the cubic cell has 2 atoms for 8$E_B$ per cell"
   ]
  },
  {
   "cell_type": "code",
   "execution_count": 9,
   "metadata": {
    "collapsed": false
   },
   "outputs": [
    {
     "name": "stdout",
     "output_type": "stream",
     "text": [
      "bcc energy density 5.33e+10 J/m3, or 386 kJ/mol\n"
     ]
    }
   ],
   "source": [
    "J_bcc = 8 * pc.eV / A_bcc**3\n",
    "E_bcc_mol = 4 * pc.eV * pc.Avogadro \n",
    "print('bcc energy density {:.3g} J/m3, or {:.3g} kJ/mol'.format(J_bcc,E_bcc_mol/1000))"
   ]
  },
  {
   "cell_type": "markdown",
   "metadata": {},
   "source": [
    "5.3 diamond crystal\n",
    "\n",
    "Each atom has 4 neighbors and the cubic cell has 8 atoms for 16$E_B$ per cell"
   ]
  },
  {
   "cell_type": "code",
   "execution_count": 10,
   "metadata": {
    "collapsed": false
   },
   "outputs": [
    {
     "name": "stdout",
     "output_type": "stream",
     "text": [
      "diamond energy density 1.33e+10 J/m3, or 193 kJ/mol\n"
     ]
    }
   ],
   "source": [
    "J_diamond = 16 * pc.eV / A_diamond**3\n",
    "E_diamond_mol = 2 * pc.eV * pc.Avogadro \n",
    "print('diamond energy density {:.3g} J/m3, or {:.3g} kJ/mol'.format(J_diamond,E_diamond_mol/1000))"
   ]
  },
  {
   "cell_type": "markdown",
   "metadata": {},
   "source": [
    "5.3 simple cubic crystal\n",
    "\n",
    "Each atom has 8 neighbors and the cubic cell has 1 atom for 4$E_B$ per cell"
   ]
  },
  {
   "cell_type": "code",
   "execution_count": 11,
   "metadata": {
    "collapsed": false
   },
   "outputs": [
    {
     "name": "stdout",
     "output_type": "stream",
     "text": [
      "simple cube energy density 4.1e+10 J/m3, or 386 kJ/mol\n"
     ]
    }
   ],
   "source": [
    "J_sc = 4 * pc.eV / A_sc**3\n",
    "E_sc_mol = 4 * pc.eV * pc.Avogadro \n",
    "print('simple cube energy density {:.3g} J/m3, or {:.3g} kJ/mol'.format(J_sc,E_sc_mol/1000))"
   ]
  },
  {
   "cell_type": "markdown",
   "metadata": {},
   "source": [
    "#### 6) Morse Potential\n",
    "Suppose an fcc crystal is described by a Morse potential with an equilibrium pair-bond length $D = 0.25 nm$ and a decay length $\\lambda= 0.1 nm$. You can calculate surface energies by summing over interactions with neighboring atoms.\n",
    "1. Estimate how many atoms you would need to include in the summation to calculate surface energies with 1% accuracy\n",
    "2. Estimate the fcc crystal interatomic spacing. Will it be greater or lesser than 0.25 nm?\n"
   ]
  },
  {
   "cell_type": "markdown",
   "metadata": {
    "collapsed": true
   },
   "source": [
    "The Morse potential is $U(r)=U_o(e^{-\\frac{2(r-r_o)}{\\lambda}}-2e^{-\\frac{r-r_o}{\\lambda}})$. For more distant atoms we can approximate the sum over neighbors by an integral over $r^2 U(r)$ where r is in uints of $r_o$."
   ]
  },
  {
   "cell_type": "code",
   "execution_count": 12,
   "metadata": {
    "collapsed": false
   },
   "outputs": [
    {
     "data": {
      "text/plain": [
       "array([ -1.00000000e+00,  -6.29728201e-01,  -1.20874447e-01,\n",
       "        -1.76938054e-02,  -2.26994496e-03,  -2.68318528e-04,\n",
       "        -2.99784228e-05,  -3.21407888e-06,  -3.33906886e-07])"
      ]
     },
     "execution_count": 12,
     "metadata": {},
     "output_type": "execute_result"
    }
   ],
   "source": [
    "def Morse(r,L=0.1/0.25):\n",
    "    return np.exp(-2*(r-1)/L) - 2*np.exp(-(r-1)/L)\n",
    "def M_sum(r):\n",
    "    return r**2 * Morse(r)\n",
    "rr = np.arange(1,10)\n",
    "M_sum(rr)"
   ]
  },
  {
   "cell_type": "markdown",
   "metadata": {},
   "source": [
    "For 1% accuracy with $\\frac{r_o}{\\lambda}= 0.4$ interactions out to $r \\approx 4r_o$ need to be included. Due to the attractive interaction of the distant neighbors, the equilibrium inter-atomic spacing will be less than $r_o$"
   ]
  },
  {
   "cell_type": "code",
   "execution_count": null,
   "metadata": {
    "collapsed": true
   },
   "outputs": [],
   "source": []
  }
 ],
 "metadata": {
  "kernelspec": {
   "display_name": "Python 3",
   "language": "python",
   "name": "python3"
  },
  "language_info": {
   "codemirror_mode": {
    "name": "ipython",
    "version": 3
   },
   "file_extension": ".py",
   "mimetype": "text/x-python",
   "name": "python",
   "nbconvert_exporter": "python",
   "pygments_lexer": "ipython3",
   "version": "3.6.0"
  }
 },
 "nbformat": 4,
 "nbformat_minor": 2
}
